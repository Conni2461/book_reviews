{
 "cells": [
  {
   "cell_type": "code",
   "execution_count": 1,
   "metadata": {},
   "outputs": [],
   "source": [
    "from sqlalchemy import create_engine, Column, String, Integer, Float, exc\n",
    "from sqlalchemy.orm import Session, declarative_base\n",
    "\n",
    "import requests\n",
    "\n",
    "from selectorlib import Extractor\n",
    "import requests\n",
    "import json\n",
    "from time import sleep\n",
    "import random"
   ]
  },
  {
   "cell_type": "code",
   "execution_count": 2,
   "metadata": {},
   "outputs": [],
   "source": [
    "# Create an Extractor by reading from the YAML file\n",
    "def scrape(url, file):\n",
    "    e = Extractor.from_yaml_file(file)\n",
    "\n",
    "\n",
    "    user_agent_list = [\n",
    "    'Mozilla/5.0 (Windows NT 10.0; Win64; x64) AppleWebKit/537.36 (KHTML, like Gecko) Chrome/74.0.3729.169 Safari/537.36',\n",
    "    'Opera/9.80 (Windows NT 6.1; WOW64) Presto/2.12.388 Version/12.18',\n",
    "    'Mozilla/4.0 (compatible; MSIE 6.0; Windows NT 5.1; SV1; .NET CLR 1.1.4322)',\n",
    "    'Mozilla/5.0 (Windows NT 10.0; Win64; x64) AppleWebKit/537.36 (KHTML, like Gecko) Chrome/92.0.4515.159 Safari/537.36',\n",
    "    'Mozilla/5.0 (Windows NT 10.0; Win64; x64) AppleWebKit/537.36 (KHTML, like Gecko) Chrome/83.0.4103.97 Safari/537.36',\n",
    "    ]\n",
    "    url = 'https://httpbin.org/headers'\n",
    "    for i in range(1,4):\n",
    "    #Pick a random user agent\n",
    "        user_agent = random.choice(user_agent_list)\n",
    "    #Set the headers \n",
    "    \n",
    "    headers = {\n",
    "        'authority': 'www.amazon.com',\n",
    "        'pragma': 'no-cache',\n",
    "        'cache-control': 'no-cache',\n",
    "        'dnt': '1',\n",
    "        'upgrade-insecure-requests': '1',\n",
    "        'user-agent':  user_agent,\n",
    "        'accept': 'text/html,application/xhtml+xml,application/xml;q=0.9,image/webp,image/apng,*/*;q=0.8,application/signed-exchange;v=b3;q=0.9',\n",
    "        'sec-fetch-site': 'none',\n",
    "        'sec-fetch-mode': 'navigate',\n",
    "        'sec-fetch-dest': 'document',\n",
    "        'accept-language': 'en-GB,en-US;q=0.9,en;q=0.8',\n",
    "    }\n",
    "    # Download the page using requests\n",
    "    r = requests.get(url, headers=headers)\n",
    "    # Simple check to check if page was blocked (Usually 503)\n",
    "    if r.status_code > 500:\n",
    "        return None\n",
    "\n",
    "    # Pass the HTML of the page and create\n",
    "    return e.extract(r.text)"
   ]
  },
  {
   "cell_type": "code",
   "execution_count": 3,
   "metadata": {},
   "outputs": [],
   "source": [
    "engine = create_engine(\"sqlite+pysqlite:///books.sqlite\")\n",
    "Base = declarative_base()\n",
    "Base.metadata.create_all(engine)\n",
    "session = Session(engine)"
   ]
  },
  {
   "cell_type": "code",
   "execution_count": 10,
   "metadata": {},
   "outputs": [],
   "source": [
    "class Book(Base):\n",
    "    __tablename__ = \"Books\"\n",
    "\n",
    "    # New York Times API\n",
    "    isbn = Column(String, primary_key=True, nullable=False)\n",
    "    title = Column(String, nullable=False)\n",
    "    author = Column(String, nullable=False)\n",
    "    score = Column(Integer, nullable=False)\n",
    "    publisher = Column(String, nullable=False)\n",
    "    book_image = Column(String, nullable=True)\n",
    "    amazon_product_url = Column(String, nullable=True)\n",
    "\n",
    "    # TODO\n",
    "    # Google books api\n",
    "    # descriptions\n",
    "    # genre\n",
    "\n",
    "    amazon_rating = Column(Float, nullable=True)\n",
    "    amazon_review_count = Column(Integer, nullable=True)\n",
    "\n",
    "    goodreads_rating = Column(Float, nullable=True)\n",
    "    goodreads_rating_count = Column(Integer, nullable=True)\n",
    "    goodreads_review_count = Column(Integer, nullable=True)\n",
    "\n",
    "    def __repr__(self) -> str:\n",
    "        return f\"Book(isbn={self.isbn!r}, title={self.title!r}, author={self.author!r}, score={self.score!r})\"\n"
   ]
  },
  {
   "cell_type": "code",
   "execution_count": 65,
   "metadata": {},
   "outputs": [
    {
     "name": "stdout",
     "output_type": "stream",
     "text": [
      "2514\n",
      "2422\n"
     ]
    }
   ],
   "source": [
    "print(len(test))\n",
    "test = session.query(Book.isbn, Book.amazon_product_url).filter(Book.amazon_rating == None).all()\n",
    "print(len(test))"
   ]
  },
  {
   "cell_type": "code",
   "execution_count": 67,
   "metadata": {},
   "outputs": [
    {
     "name": "stdout",
     "output_type": "stream",
     "text": [
      "9780062353658\n",
      "{'rating': None, 'reviewCount': None}\n",
      "9780593098967\n",
      "{'rating': None, 'reviewCount': None}\n"
     ]
    },
    {
     "ename": "KeyboardInterrupt",
     "evalue": "",
     "output_type": "error",
     "traceback": [
      "\u001b[1;31m---------------------------------------------------------------------------\u001b[0m",
      "\u001b[1;31mKeyboardInterrupt\u001b[0m                         Traceback (most recent call last)",
      "\u001b[1;32m<ipython-input-67-aa8fa501cad1>\u001b[0m in \u001b[0;36m<module>\u001b[1;34m\u001b[0m\n\u001b[0;32m     17\u001b[0m             \u001b[0msession\u001b[0m\u001b[1;33m.\u001b[0m\u001b[0mquery\u001b[0m\u001b[1;33m(\u001b[0m\u001b[0mBook\u001b[0m\u001b[1;33m)\u001b[0m\u001b[1;33m.\u001b[0m\u001b[0mfilter\u001b[0m\u001b[1;33m(\u001b[0m\u001b[0mrow\u001b[0m\u001b[1;33m.\u001b[0m\u001b[0misbn\u001b[0m \u001b[1;33m==\u001b[0m \u001b[0mBook\u001b[0m\u001b[1;33m.\u001b[0m\u001b[0misbn\u001b[0m\u001b[1;33m)\u001b[0m\u001b[1;33m.\u001b[0m\u001b[0mupdate\u001b[0m\u001b[1;33m(\u001b[0m\u001b[1;33m{\u001b[0m\u001b[1;34m'amazon_review_count'\u001b[0m \u001b[1;33m:\u001b[0m \u001b[0mamazon_review_count\u001b[0m\u001b[1;33m}\u001b[0m\u001b[1;33m)\u001b[0m\u001b[1;33m\u001b[0m\u001b[1;33m\u001b[0m\u001b[0m\n\u001b[0;32m     18\u001b[0m \u001b[1;33m\u001b[0m\u001b[0m\n\u001b[1;32m---> 19\u001b[1;33m     \u001b[0msleep\u001b[0m\u001b[1;33m(\u001b[0m\u001b[1;36m10\u001b[0m\u001b[1;33m)\u001b[0m\u001b[1;33m\u001b[0m\u001b[1;33m\u001b[0m\u001b[0m\n\u001b[0m\u001b[0;32m     20\u001b[0m     \u001b[1;32mif\u001b[0m \u001b[0mindex\u001b[0m \u001b[1;33m%\u001b[0m \u001b[1;36m10\u001b[0m \u001b[1;33m==\u001b[0m \u001b[1;36m0\u001b[0m\u001b[1;33m:\u001b[0m\u001b[1;33m\u001b[0m\u001b[1;33m\u001b[0m\u001b[0m\n\u001b[0;32m     21\u001b[0m         \u001b[0msession\u001b[0m\u001b[1;33m.\u001b[0m\u001b[0mcommit\u001b[0m\u001b[1;33m(\u001b[0m\u001b[1;33m)\u001b[0m\u001b[1;33m\u001b[0m\u001b[1;33m\u001b[0m\u001b[0m\n",
      "\u001b[1;31mKeyboardInterrupt\u001b[0m: "
     ]
    }
   ],
   "source": [
    "for index, row in enumerate(test):\n",
    "\n",
    "    print(row.isbn)\n",
    "    amazon = scrape(row.amazon_product_url, \"definitions/amazon.yml\")\n",
    "\n",
    "    print(amazon)\n",
    "    #print(row.amazon_rating)\n",
    "\n",
    "    if amazon != None:\n",
    "        rating = amazon[\"rating\"]\n",
    "        if rating != None:\n",
    "            amazon_rating = rating.split()[0]\n",
    "            session.query(Book).filter(row.isbn == Book.isbn).update({'amazon_rating' : amazon_rating})\n",
    "        reviewCount = amazon[\"reviewCount\"]\n",
    "        if reviewCount != None:\n",
    "            amazon_review_count = reviewCount.split()[0].replace(\",\", \"\")\n",
    "            session.query(Book).filter(row.isbn == Book.isbn).update({'amazon_review_count' : amazon_review_count})\n",
    "\n",
    "    sleep(10)\n",
    "    if index % 10 == 0:\n",
    "        session.commit()"
   ]
  },
  {
   "cell_type": "code",
   "execution_count": null,
   "metadata": {},
   "outputs": [],
   "source": []
  }
 ],
 "metadata": {
  "interpreter": {
   "hash": "85c5338521198999b80d863a531722ca893d46f81fd69a08b81126edd62d109e"
  },
  "kernelspec": {
   "display_name": "Python 3.8.10 64-bit ('base': conda)",
   "language": "python",
   "name": "python3"
  },
  "language_info": {
   "codemirror_mode": {
    "name": "ipython",
    "version": 3
   },
   "file_extension": ".py",
   "mimetype": "text/x-python",
   "name": "python",
   "nbconvert_exporter": "python",
   "pygments_lexer": "ipython3",
   "version": "3.8.10"
  },
  "orig_nbformat": 4
 },
 "nbformat": 4,
 "nbformat_minor": 2
}
