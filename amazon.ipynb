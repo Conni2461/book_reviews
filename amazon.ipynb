{
 "cells": [
  {
   "cell_type": "code",
   "execution_count": 12,
   "metadata": {},
   "outputs": [],
   "source": [
    "from sqlalchemy import create_engine, Column, Date, String, Integer, Float, exc, and_, or_\n",
    "from sqlalchemy.orm import Session, declarative_base\n",
    "\n",
    "import requests\n",
    "\n",
    "from selectorlib import Extractor\n",
    "import requests\n",
    "import json\n",
    "from time import sleep\n",
    "import random"
   ]
  },
  {
   "cell_type": "code",
   "execution_count": 2,
   "metadata": {},
   "outputs": [],
   "source": [
    "def scrape(url, file):\n",
    "    e = Extractor.from_yaml_file(file)\n",
    "    headers = {\n",
    "        'authority': 'www.amazon.com',\n",
    "        'pragma': 'no-cache',\n",
    "        'cache-control': 'no-cache',\n",
    "        'dnt': '1',\n",
    "        'upgrade-insecure-requests': '1',\n",
    "        'user-agent': 'Mozilla/5.0 (X11; CrOS x86_64 8172.45.0) AppleWebKit/537.36 (KHTML, like Gecko) Chrome/51.0.2704.64 Safari/537.36',\n",
    "        'accept': 'text/html,application/xhtml+xml,application/xml;q=0.9,image/webp,image/apng,*/*;q=0.8,application/signed-exchange;v=b3;q=0.9',\n",
    "        'sec-fetch-site': 'none',\n",
    "        'sec-fetch-mode': 'navigate',\n",
    "        'sec-fetch-dest': 'document',\n",
    "        'accept-language': 'en-GB,en-US;q=0.9,en;q=0.8',\n",
    "    }\n",
    "    # Download the page using requests\n",
    "    r = requests.get(url, headers=headers)\n",
    "    # Simple check to check if page was blocked (Usually 503)\n",
    "    if r.status_code > 500:\n",
    "        return None\n",
    "\n",
    "    # Pass the HTML of the page and create\n",
    "    return e.extract(r.text)"
   ]
  },
  {
   "cell_type": "code",
   "execution_count": 3,
   "metadata": {},
   "outputs": [],
   "source": [
    "engine = create_engine(\"sqlite+pysqlite:///books.sqlite\")\n",
    "Base = declarative_base()\n",
    "Base.metadata.create_all(engine)\n",
    "session = Session(engine)"
   ]
  },
  {
   "cell_type": "code",
   "execution_count": 4,
   "metadata": {},
   "outputs": [],
   "source": [
    "\n",
    "class Amazon(Base):\n",
    "    __tablename__ = \"Amazon\"\n",
    "\n",
    "    isbn = Column(String, primary_key=True, nullable=False)\n",
    "    rating = Column(Float, nullable=True)\n",
    "    review_count = Column(Integer, nullable=True)\n",
    "    url = Column(String, nullable=True)\n",
    "\n",
    "    def __repr__(self) -> str:\n",
    "        return (\n",
    "            f\"Amazon(isbn={self.isbn!r}, \"\n",
    "            f\"rating={self.rating!r}, \"\n",
    "            f\"review_count={self.review_count!r}, \"\n",
    "            f\"url={self.url!r})\"\n",
    "        )\n"
   ]
  },
  {
   "cell_type": "code",
   "execution_count": 19,
   "metadata": {},
   "outputs": [],
   "source": [
    "def scrapeAmazon():\n",
    "    books = (\n",
    "        session.query(Amazon)\n",
    "        .filter(((Amazon.rating == None) | (Amazon.rating < -1))  & Amazon.url != None)\n",
    "        .all()\n",
    "    )\n",
    "    for book in books:\n",
    "        amazon = scrape(book.url, \"definitions/amazon.yml\")\n",
    "        print(amazon, book.url)\n",
    "        if amazon != None:\n",
    "            rating = amazon[\"rating\"]\n",
    "            if rating != None:\n",
    "                book.rating = rating.split()[0]\n",
    "            reviewCount = amazon[\"reviewCount\"]\n",
    "            if reviewCount != None:\n",
    "                book.review_count = reviewCount.split()[0].replace(\",\", \"\")\n",
    "\n",
    "            if rating == None and reviewCount == None:\n",
    "                print(\"-5\")\n",
    "                if type(book.rating) == int or float :\n",
    "                    print(\"lol\")\n",
    "                    book.rating = book.rating - 1\n",
    "                else:\n",
    "                    book.rating = -5\n",
    "                    \n",
    "            session.commit()\n",
    "        sleep(6)\n",
    "        "
   ]
  },
  {
   "cell_type": "code",
   "execution_count": 20,
   "metadata": {},
   "outputs": [
    {
     "name": "stdout",
     "output_type": "stream",
     "text": [
      "{'rating': '4.1 out of 5 stars', 'reviewCount': '9,243 ratings'} https://www.amazon.com/dp/1984818503?tag=NYTBSREV-20\n",
      "{'rating': None, 'reviewCount': None} https://www.amazon.com/dp/0385546025?tag=NYTBSREV-20\n",
      "-5\n",
      "{'rating': None, 'reviewCount': None} https://www.amazon.com/dp/059343837X?tag=NYTBSREV-20\n",
      "-5\n",
      "{'rating': '4.5 out of 5 stars', 'reviewCount': '7,783 ratings'} https://www.amazon.com/dp/0735222355?tag=NYTBSREV-20\n"
     ]
    },
    {
     "ename": "KeyboardInterrupt",
     "evalue": "",
     "output_type": "error",
     "traceback": [
      "\u001b[1;31m---------------------------------------------------------------------------\u001b[0m",
      "\u001b[1;31mKeyboardInterrupt\u001b[0m                         Traceback (most recent call last)",
      "\u001b[1;32m~\\AppData\\Local\\Temp/ipykernel_10948/3802014832.py\u001b[0m in \u001b[0;36m<module>\u001b[1;34m\u001b[0m\n\u001b[1;32m----> 1\u001b[1;33m \u001b[0mscrapeAmazon\u001b[0m\u001b[1;33m(\u001b[0m\u001b[1;33m)\u001b[0m\u001b[1;33m\u001b[0m\u001b[1;33m\u001b[0m\u001b[0m\n\u001b[0m",
      "\u001b[1;32m~\\AppData\\Local\\Temp/ipykernel_10948/1619379248.py\u001b[0m in \u001b[0;36mscrapeAmazon\u001b[1;34m()\u001b[0m\n\u001b[0;32m     25\u001b[0m \u001b[1;33m\u001b[0m\u001b[0m\n\u001b[0;32m     26\u001b[0m             \u001b[0msession\u001b[0m\u001b[1;33m.\u001b[0m\u001b[0mcommit\u001b[0m\u001b[1;33m(\u001b[0m\u001b[1;33m)\u001b[0m\u001b[1;33m\u001b[0m\u001b[1;33m\u001b[0m\u001b[0m\n\u001b[1;32m---> 27\u001b[1;33m         \u001b[0msleep\u001b[0m\u001b[1;33m(\u001b[0m\u001b[1;36m6\u001b[0m\u001b[1;33m)\u001b[0m\u001b[1;33m\u001b[0m\u001b[1;33m\u001b[0m\u001b[0m\n\u001b[0m\u001b[0;32m     28\u001b[0m \u001b[1;33m\u001b[0m\u001b[0m\n",
      "\u001b[1;31mKeyboardInterrupt\u001b[0m: "
     ]
    }
   ],
   "source": [
    "scrapeAmazon()"
   ]
  },
  {
   "cell_type": "code",
   "execution_count": null,
   "metadata": {},
   "outputs": [],
   "source": []
  }
 ],
 "metadata": {
  "interpreter": {
   "hash": "85c5338521198999b80d863a531722ca893d46f81fd69a08b81126edd62d109e"
  },
  "kernelspec": {
   "display_name": "Python 3.8.10 64-bit ('base': conda)",
   "language": "python",
   "name": "python3"
  },
  "language_info": {
   "codemirror_mode": {
    "name": "ipython",
    "version": 3
   },
   "file_extension": ".py",
   "mimetype": "text/x-python",
   "name": "python",
   "nbconvert_exporter": "python",
   "pygments_lexer": "ipython3",
   "version": "3.8.10"
  },
  "orig_nbformat": 4
 },
 "nbformat": 4,
 "nbformat_minor": 2
}
