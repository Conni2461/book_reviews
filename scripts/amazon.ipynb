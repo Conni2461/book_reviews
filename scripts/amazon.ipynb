{
 "cells": [
  {
   "cell_type": "code",
   "execution_count": 1,
   "metadata": {},
   "outputs": [],
   "source": [
    "from sqlalchemy import create_engine, Column, Date, String, Integer, Float, exc, and_, or_\n",
    "from sqlalchemy.orm import Session, declarative_base\n",
    "\n",
    "import requests\n",
    "\n",
    "from selectorlib import Extractor\n",
    "import requests\n",
    "import json\n",
    "from time import sleep\n",
    "import random\n",
    "import re"
   ]
  },
  {
   "cell_type": "code",
   "execution_count": 2,
   "metadata": {},
   "outputs": [],
   "source": [
    "def scrape(url, file):\n",
    "    e = Extractor.from_yaml_file(file)\n",
    "    headers = {\n",
    "        'authority': 'www.amazon.com',\n",
    "        'pragma': 'no-cache',\n",
    "        'cache-control': 'no-cache',\n",
    "        'dnt': '1',\n",
    "        'upgrade-insecure-requests': '1',\n",
    "        'user-agent': 'Mozilla/5.0 (X11; CrOS x86_64 8172.45.0) AppleWebKit/537.36 (KHTML, like Gecko) Chrome/51.0.2704.64 Safari/537.36',\n",
    "        'accept': 'text/html,application/xhtml+xml,application/xml;q=0.9,image/webp,image/apng,*/*;q=0.8,application/signed-exchange;v=b3;q=0.9',\n",
    "        'sec-fetch-site': 'none',\n",
    "        'sec-fetch-mode': 'navigate',\n",
    "        'sec-fetch-dest': 'document',\n",
    "        'accept-language': 'en-GB,en-US;q=0.9,en;q=0.8',\n",
    "    }\n",
    "    # Download the page using requests\n",
    "    r = requests.get(url, headers=headers)\n",
    "    # Simple check to check if page was blocked (Usually 503)\n",
    "    if r.status_code > 500:\n",
    "        return None\n",
    "\n",
    "    # Pass the HTML of the page and create\n",
    "    return e.extract(r.text)"
   ]
  },
  {
   "cell_type": "code",
   "execution_count": 3,
   "metadata": {},
   "outputs": [],
   "source": [
    "engine = create_engine(\"sqlite+pysqlite:///books.sqlite\")\n",
    "Base = declarative_base()\n",
    "Base.metadata.create_all(engine)\n",
    "session = Session(engine)"
   ]
  },
  {
   "cell_type": "code",
   "execution_count": 4,
   "metadata": {},
   "outputs": [],
   "source": [
    "class Amazon(Base):\n",
    "    __tablename__ = \"Amazon\"\n",
    "\n",
    "    isbn = Column(String, primary_key=True, nullable=False)\n",
    "    title = Column(String, nullable=True)\n",
    "    subtitle = Column(String, nullable=True)\n",
    "    author = Column(String, nullable=True)\n",
    "    description = Column(String, nullable=True)\n",
    "    book_type = Column(String, nullable = True)\n",
    "    price = Column(Float, nullable=True)\n",
    "    rating = Column(Float, nullable=True)\n",
    "    review_count = Column(Integer, nullable=True)\n",
    "    page_count = Column(Integer, nullable=True)\n",
    "    language = Column(String, nullable=True)\n",
    "    publisher = Column(String, nullable=True)\n",
    "    published_date = Column(String, nullable=True)\n",
    "    url = Column(String, nullable=True)\n",
    "    \n",
    "\n",
    "    def __repr__(self) -> str:\n",
    "        return (\n",
    "            f\"Amazon(isbn={self.isbn!r}, \"\n",
    "            f\"title={self.title!r}, \"\n",
    "            f\"subtitle={self.subtitle!r}, \"\n",
    "            f\"author={self.author!r}, \"\n",
    "            f\"description={self.description!r}, \"\n",
    "            f\"book_type={self.book_type!r}, \"\n",
    "            f\"price={self.price!r}, \"\n",
    "            f\"rating={self.rating!r}, \"\n",
    "            f\"review_count={self.review_count!r}, \"\n",
    "            f\"page_count={self.page_count!r}, \"\n",
    "            f\"language={self.language!r}, \"\n",
    "            f\"publisher={self.publisher!r}, \"\n",
    "            f\"published_date={self.published_date!r}, \"\n",
    "            f\"url={self.url!r})\"\n",
    "        )\n"
   ]
  },
  {
   "cell_type": "code",
   "execution_count": 5,
   "metadata": {},
   "outputs": [],
   "source": [
    "def scrapeAmazon(level):\n",
    "    print(f\"level : {-level}\")\n",
    "    books = (\n",
    "        session.query(Amazon).filter(((Amazon.title == None) | (Amazon.title == -level)) & (Amazon.rating > 0)).all()\n",
    "    )\n",
    "    print(len(books))\n",
    "    for book in books:\n",
    "        try:\n",
    "            amazon = scrape(book.url, \"definitions/amazon.yml\")\n",
    "            print(amazon, book.url)\n",
    "            \n",
    "            \n",
    "            if amazon != None:\n",
    "                changed_flag = False\n",
    "                \n",
    "                try: \n",
    "                    if amazon[\"title\"] != None:\n",
    "                        book.title = amazon[\"title\"]\n",
    "                        changed_flag = True\n",
    "                    \n",
    "                    if amazon[\"subtitle\"] != None:\n",
    "                        book.subtitle = amazon[\"subtitle\"]\n",
    "                        changed_flag = True\n",
    "\n",
    "                    if amazon[\"author\"] != None:\n",
    "                        book.author = amazon[\"author\"]\n",
    "                        changed_flag = True\n",
    "\n",
    "                    if amazon[\"description\"] != None:\n",
    "                        book.description = amazon[\"description\"]\n",
    "                        changed_flag = True\n",
    "\n",
    "                    if amazon[\"price\"] != None:\n",
    "                        book.price = re.sub(r'^.*?\\$', '', amazon[\"price\"])\n",
    "                        changed_flag = True\n",
    "                    \n",
    "                    if amazon[\"page_count\"] != None:\n",
    "                        book.page_count = amazon[\"page_count\"]\n",
    "                        changed_flag = True\n",
    "                    \n",
    "                    if amazon[\"language\"] != None:\n",
    "                        book.language = amazon[\"language\"]\n",
    "                        changed_flag = True\n",
    "\n",
    "                    if amazon[\"publisher\"] != None:\n",
    "                        book.publisher = amazon[\"publisher\"]\n",
    "                        changed_flag = True\n",
    "\n",
    "                    if amazon[\"published_date\"] != None:\n",
    "                        book.published_date = amazon[\"published_date\"]\n",
    "                        changed_flag = True\n",
    "\n",
    "                    if amazon[\"book_type\"] != None:\n",
    "                        book.book_type = amazon[\"book_type\"]\n",
    "                        changed_flag = True\n",
    "                except:\n",
    "                    session.rollback()\n",
    "                \n",
    "\n",
    "\n",
    "                if not changed_flag:\n",
    "                    try:\n",
    "                        book.title = book.title - 1\n",
    "                    except: # does the same thing, but seperated for semantic reasons\n",
    "                        session.rollback()\n",
    "                        \n",
    "                session.commit()\n",
    "        except:\n",
    "            pass\n",
    "        \n",
    "        \n",
    "        "
   ]
  },
  {
   "cell_type": "code",
   "execution_count": 8,
   "metadata": {},
   "outputs": [
    {
     "name": "stdout",
     "output_type": "stream",
     "text": [
      "level : -10\n",
      "296\n",
      "{'title': None, 'subtitle': None, 'author': None, 'description': None, 'price': None, 'rating': None, 'review_count': None, 'page_count': None, 'language': None, 'publisher': None, 'published_date': None, 'book_type': None} https://www.amazon.com/Good-Omens/dp/B002WEBBBO?tag=NYTBSREV-20\n",
      "FAILED\n",
      "level : -11\n"
     ]
    },
    {
     "ename": "PendingRollbackError",
     "evalue": "This Session's transaction has been rolled back due to a previous exception during flush. To begin a new transaction with this Session, first issue Session.rollback(). Original exception was: (sqlite3.OperationalError) database is locked\n[SQL: UPDATE \"Amazon\" SET title=? WHERE \"Amazon\".isbn = ?]\n[parameters: (-10, '9780060853983')]\n(Background on this error at: https://sqlalche.me/e/14/e3q8) (Background on this error at: https://sqlalche.me/e/14/7s2a)",
     "output_type": "error",
     "traceback": [
      "\u001b[1;31m---------------------------------------------------------------------------\u001b[0m",
      "\u001b[1;31mPendingRollbackError\u001b[0m                      Traceback (most recent call last)",
      "\u001b[1;32m~\\AppData\\Local\\Temp/ipykernel_17192/2385370124.py\u001b[0m in \u001b[0;36m<module>\u001b[1;34m\u001b[0m\n\u001b[0;32m      2\u001b[0m \u001b[1;32mfor\u001b[0m \u001b[0mi\u001b[0m \u001b[1;32min\u001b[0m \u001b[0mrange\u001b[0m\u001b[1;33m(\u001b[0m\u001b[1;36m20\u001b[0m\u001b[1;33m)\u001b[0m\u001b[1;33m:\u001b[0m\u001b[1;33m\u001b[0m\u001b[1;33m\u001b[0m\u001b[0m\n\u001b[0;32m      3\u001b[0m \u001b[1;33m\u001b[0m\u001b[0m\n\u001b[1;32m----> 4\u001b[1;33m         \u001b[0mscrapeAmazon\u001b[0m\u001b[1;33m(\u001b[0m\u001b[0mi\u001b[0m\u001b[1;33m+\u001b[0m\u001b[1;36m10\u001b[0m\u001b[1;33m)\u001b[0m\u001b[1;33m\u001b[0m\u001b[1;33m\u001b[0m\u001b[0m\n\u001b[0m\u001b[0;32m      5\u001b[0m \u001b[1;33m\u001b[0m\u001b[0m\n\u001b[0;32m      6\u001b[0m         \u001b[0mprint\u001b[0m\u001b[1;33m(\u001b[0m\u001b[1;34m\"FAILED\"\u001b[0m\u001b[1;33m)\u001b[0m\u001b[1;33m\u001b[0m\u001b[1;33m\u001b[0m\u001b[0m\n",
      "\u001b[1;32m~\\AppData\\Local\\Temp/ipykernel_17192/684095211.py\u001b[0m in \u001b[0;36mscrapeAmazon\u001b[1;34m(level)\u001b[0m\n\u001b[0;32m      2\u001b[0m     \u001b[0mprint\u001b[0m\u001b[1;33m(\u001b[0m\u001b[1;34mf\"level : {-level}\"\u001b[0m\u001b[1;33m)\u001b[0m\u001b[1;33m\u001b[0m\u001b[1;33m\u001b[0m\u001b[0m\n\u001b[0;32m      3\u001b[0m     books = (\n\u001b[1;32m----> 4\u001b[1;33m         \u001b[0msession\u001b[0m\u001b[1;33m.\u001b[0m\u001b[0mquery\u001b[0m\u001b[1;33m(\u001b[0m\u001b[0mAmazon\u001b[0m\u001b[1;33m)\u001b[0m\u001b[1;33m.\u001b[0m\u001b[0mfilter\u001b[0m\u001b[1;33m(\u001b[0m\u001b[1;33m(\u001b[0m\u001b[1;33m(\u001b[0m\u001b[0mAmazon\u001b[0m\u001b[1;33m.\u001b[0m\u001b[0mtitle\u001b[0m \u001b[1;33m==\u001b[0m \u001b[1;32mNone\u001b[0m\u001b[1;33m)\u001b[0m \u001b[1;33m|\u001b[0m \u001b[1;33m(\u001b[0m\u001b[0mAmazon\u001b[0m\u001b[1;33m.\u001b[0m\u001b[0mtitle\u001b[0m \u001b[1;33m==\u001b[0m \u001b[1;33m-\u001b[0m\u001b[0mlevel\u001b[0m\u001b[1;33m)\u001b[0m\u001b[1;33m)\u001b[0m \u001b[1;33m&\u001b[0m \u001b[1;33m(\u001b[0m\u001b[0mAmazon\u001b[0m\u001b[1;33m.\u001b[0m\u001b[0mrating\u001b[0m \u001b[1;33m>\u001b[0m \u001b[1;36m0\u001b[0m\u001b[1;33m)\u001b[0m\u001b[1;33m)\u001b[0m\u001b[1;33m.\u001b[0m\u001b[0mall\u001b[0m\u001b[1;33m(\u001b[0m\u001b[1;33m)\u001b[0m\u001b[1;33m\u001b[0m\u001b[1;33m\u001b[0m\u001b[0m\n\u001b[0m\u001b[0;32m      5\u001b[0m     )\n\u001b[0;32m      6\u001b[0m     \u001b[0mprint\u001b[0m\u001b[1;33m(\u001b[0m\u001b[0mlen\u001b[0m\u001b[1;33m(\u001b[0m\u001b[0mbooks\u001b[0m\u001b[1;33m)\u001b[0m\u001b[1;33m)\u001b[0m\u001b[1;33m\u001b[0m\u001b[1;33m\u001b[0m\u001b[0m\n",
      "\u001b[1;32m~\\anaconda3\\lib\\site-packages\\sqlalchemy\\orm\\query.py\u001b[0m in \u001b[0;36mall\u001b[1;34m(self)\u001b[0m\n\u001b[0;32m   2709\u001b[0m                 \u001b[1;33m:\u001b[0m\u001b[0mref\u001b[0m\u001b[1;33m:\u001b[0m\u001b[0;31m`\u001b[0m\u001b[0mfaq_query_deduplicating\u001b[0m\u001b[0;31m`\u001b[0m\u001b[1;33m\u001b[0m\u001b[1;33m\u001b[0m\u001b[0m\n\u001b[0;32m   2710\u001b[0m         \"\"\"\n\u001b[1;32m-> 2711\u001b[1;33m         \u001b[1;32mreturn\u001b[0m \u001b[0mself\u001b[0m\u001b[1;33m.\u001b[0m\u001b[0m_iter\u001b[0m\u001b[1;33m(\u001b[0m\u001b[1;33m)\u001b[0m\u001b[1;33m.\u001b[0m\u001b[0mall\u001b[0m\u001b[1;33m(\u001b[0m\u001b[1;33m)\u001b[0m\u001b[1;33m\u001b[0m\u001b[1;33m\u001b[0m\u001b[0m\n\u001b[0m\u001b[0;32m   2712\u001b[0m \u001b[1;33m\u001b[0m\u001b[0m\n\u001b[0;32m   2713\u001b[0m     \u001b[1;33m@\u001b[0m\u001b[0m_generative\u001b[0m\u001b[1;33m\u001b[0m\u001b[1;33m\u001b[0m\u001b[0m\n",
      "\u001b[1;32m~\\anaconda3\\lib\\site-packages\\sqlalchemy\\orm\\query.py\u001b[0m in \u001b[0;36m_iter\u001b[1;34m(self)\u001b[0m\n\u001b[0;32m   2844\u001b[0m \u001b[1;33m\u001b[0m\u001b[0m\n\u001b[0;32m   2845\u001b[0m         \u001b[0mstatement\u001b[0m \u001b[1;33m=\u001b[0m \u001b[0mself\u001b[0m\u001b[1;33m.\u001b[0m\u001b[0m_statement_20\u001b[0m\u001b[1;33m(\u001b[0m\u001b[1;33m)\u001b[0m\u001b[1;33m\u001b[0m\u001b[1;33m\u001b[0m\u001b[0m\n\u001b[1;32m-> 2846\u001b[1;33m         result = self.session.execute(\n\u001b[0m\u001b[0;32m   2847\u001b[0m             \u001b[0mstatement\u001b[0m\u001b[1;33m,\u001b[0m\u001b[1;33m\u001b[0m\u001b[1;33m\u001b[0m\u001b[0m\n\u001b[0;32m   2848\u001b[0m             \u001b[0mparams\u001b[0m\u001b[1;33m,\u001b[0m\u001b[1;33m\u001b[0m\u001b[1;33m\u001b[0m\u001b[0m\n",
      "\u001b[1;32m~\\anaconda3\\lib\\site-packages\\sqlalchemy\\orm\\session.py\u001b[0m in \u001b[0;36mexecute\u001b[1;34m(self, statement, params, execution_options, bind_arguments, _parent_execute_state, _add_event, **kw)\u001b[0m\n\u001b[0;32m   1686\u001b[0m             )\n\u001b[0;32m   1687\u001b[0m         \u001b[1;32melse\u001b[0m\u001b[1;33m:\u001b[0m\u001b[1;33m\u001b[0m\u001b[1;33m\u001b[0m\u001b[0m\n\u001b[1;32m-> 1688\u001b[1;33m             \u001b[0mconn\u001b[0m \u001b[1;33m=\u001b[0m \u001b[0mself\u001b[0m\u001b[1;33m.\u001b[0m\u001b[0m_connection_for_bind\u001b[0m\u001b[1;33m(\u001b[0m\u001b[0mbind\u001b[0m\u001b[1;33m)\u001b[0m\u001b[1;33m\u001b[0m\u001b[1;33m\u001b[0m\u001b[0m\n\u001b[0m\u001b[0;32m   1689\u001b[0m         \u001b[0mresult\u001b[0m \u001b[1;33m=\u001b[0m \u001b[0mconn\u001b[0m\u001b[1;33m.\u001b[0m\u001b[0m_execute_20\u001b[0m\u001b[1;33m(\u001b[0m\u001b[0mstatement\u001b[0m\u001b[1;33m,\u001b[0m \u001b[0mparams\u001b[0m \u001b[1;32mor\u001b[0m \u001b[1;33m{\u001b[0m\u001b[1;33m}\u001b[0m\u001b[1;33m,\u001b[0m \u001b[0mexecution_options\u001b[0m\u001b[1;33m)\u001b[0m\u001b[1;33m\u001b[0m\u001b[1;33m\u001b[0m\u001b[0m\n\u001b[0;32m   1690\u001b[0m \u001b[1;33m\u001b[0m\u001b[0m\n",
      "\u001b[1;32m~\\anaconda3\\lib\\site-packages\\sqlalchemy\\orm\\session.py\u001b[0m in \u001b[0;36m_connection_for_bind\u001b[1;34m(self, engine, execution_options, **kw)\u001b[0m\n\u001b[0;32m   1527\u001b[0m \u001b[1;33m\u001b[0m\u001b[0m\n\u001b[0;32m   1528\u001b[0m         \u001b[1;32mif\u001b[0m \u001b[0mself\u001b[0m\u001b[1;33m.\u001b[0m\u001b[0m_transaction\u001b[0m \u001b[1;32mis\u001b[0m \u001b[1;32mnot\u001b[0m \u001b[1;32mNone\u001b[0m \u001b[1;32mor\u001b[0m \u001b[0mself\u001b[0m\u001b[1;33m.\u001b[0m\u001b[0m_autobegin\u001b[0m\u001b[1;33m(\u001b[0m\u001b[1;33m)\u001b[0m\u001b[1;33m:\u001b[0m\u001b[1;33m\u001b[0m\u001b[1;33m\u001b[0m\u001b[0m\n\u001b[1;32m-> 1529\u001b[1;33m             return self._transaction._connection_for_bind(\n\u001b[0m\u001b[0;32m   1530\u001b[0m                 \u001b[0mengine\u001b[0m\u001b[1;33m,\u001b[0m \u001b[0mexecution_options\u001b[0m\u001b[1;33m\u001b[0m\u001b[1;33m\u001b[0m\u001b[0m\n\u001b[0;32m   1531\u001b[0m             )\n",
      "\u001b[1;32m~\\anaconda3\\lib\\site-packages\\sqlalchemy\\orm\\session.py\u001b[0m in \u001b[0;36m_connection_for_bind\u001b[1;34m(self, bind, execution_options)\u001b[0m\n\u001b[0;32m    719\u001b[0m \u001b[1;33m\u001b[0m\u001b[0m\n\u001b[0;32m    720\u001b[0m     \u001b[1;32mdef\u001b[0m \u001b[0m_connection_for_bind\u001b[0m\u001b[1;33m(\u001b[0m\u001b[0mself\u001b[0m\u001b[1;33m,\u001b[0m \u001b[0mbind\u001b[0m\u001b[1;33m,\u001b[0m \u001b[0mexecution_options\u001b[0m\u001b[1;33m)\u001b[0m\u001b[1;33m:\u001b[0m\u001b[1;33m\u001b[0m\u001b[1;33m\u001b[0m\u001b[0m\n\u001b[1;32m--> 721\u001b[1;33m         \u001b[0mself\u001b[0m\u001b[1;33m.\u001b[0m\u001b[0m_assert_active\u001b[0m\u001b[1;33m(\u001b[0m\u001b[1;33m)\u001b[0m\u001b[1;33m\u001b[0m\u001b[1;33m\u001b[0m\u001b[0m\n\u001b[0m\u001b[0;32m    722\u001b[0m \u001b[1;33m\u001b[0m\u001b[0m\n\u001b[0;32m    723\u001b[0m         \u001b[1;32mif\u001b[0m \u001b[0mbind\u001b[0m \u001b[1;32min\u001b[0m \u001b[0mself\u001b[0m\u001b[1;33m.\u001b[0m\u001b[0m_connections\u001b[0m\u001b[1;33m:\u001b[0m\u001b[1;33m\u001b[0m\u001b[1;33m\u001b[0m\u001b[0m\n",
      "\u001b[1;32m~\\anaconda3\\lib\\site-packages\\sqlalchemy\\orm\\session.py\u001b[0m in \u001b[0;36m_assert_active\u001b[1;34m(self, prepared_ok, rollback_ok, deactive_ok, closed_msg)\u001b[0m\n\u001b[0;32m    599\u001b[0m             \u001b[1;32mif\u001b[0m \u001b[1;32mnot\u001b[0m \u001b[0mdeactive_ok\u001b[0m \u001b[1;32mand\u001b[0m \u001b[1;32mnot\u001b[0m \u001b[0mrollback_ok\u001b[0m\u001b[1;33m:\u001b[0m\u001b[1;33m\u001b[0m\u001b[1;33m\u001b[0m\u001b[0m\n\u001b[0;32m    600\u001b[0m                 \u001b[1;32mif\u001b[0m \u001b[0mself\u001b[0m\u001b[1;33m.\u001b[0m\u001b[0m_rollback_exception\u001b[0m\u001b[1;33m:\u001b[0m\u001b[1;33m\u001b[0m\u001b[1;33m\u001b[0m\u001b[0m\n\u001b[1;32m--> 601\u001b[1;33m                     raise sa_exc.PendingRollbackError(\n\u001b[0m\u001b[0;32m    602\u001b[0m                         \u001b[1;34m\"This Session's transaction has been rolled back \"\u001b[0m\u001b[1;33m\u001b[0m\u001b[1;33m\u001b[0m\u001b[0m\n\u001b[0;32m    603\u001b[0m                         \u001b[1;34m\"due to a previous exception during flush.\"\u001b[0m\u001b[1;33m\u001b[0m\u001b[1;33m\u001b[0m\u001b[0m\n",
      "\u001b[1;31mPendingRollbackError\u001b[0m: This Session's transaction has been rolled back due to a previous exception during flush. To begin a new transaction with this Session, first issue Session.rollback(). Original exception was: (sqlite3.OperationalError) database is locked\n[SQL: UPDATE \"Amazon\" SET title=? WHERE \"Amazon\".isbn = ?]\n[parameters: (-10, '9780060853983')]\n(Background on this error at: https://sqlalche.me/e/14/e3q8) (Background on this error at: https://sqlalche.me/e/14/7s2a)"
     ]
    }
   ],
   "source": [
    "#start i at 10\n",
    "for i in range(20):\n",
    "    \n",
    "        scrapeAmazon(i+10)\n",
    "    \n",
    "        print(\"FAILED\")"
   ]
  },
  {
   "cell_type": "markdown",
   "metadata": {},
   "source": []
  },
  {
   "cell_type": "code",
   "execution_count": 36,
   "metadata": {},
   "outputs": [],
   "source": [
    "books = session.query(Amazon).filter(((Amazon.rating == None) | (Amazon.rating <= -2))  & (Amazon.url != None)).all()"
   ]
  },
  {
   "cell_type": "code",
   "execution_count": 7,
   "metadata": {},
   "outputs": [],
   "source": [
    "session.rollback()"
   ]
  },
  {
   "cell_type": "code",
   "execution_count": 18,
   "metadata": {},
   "outputs": [],
   "source": [
    "amazon = scrape(\"https://www.amazon.com/dp/1984818503?tag=NYTBSREV-20\", \"definitions/amazon.yml\")"
   ]
  },
  {
   "cell_type": "code",
   "execution_count": 19,
   "metadata": {},
   "outputs": [
    {
     "data": {
      "text/plain": [
       "{'title': 'Better Off Dead A Jack Reacher Novel',\n",
       " 'subtitle': 'Hardcover – October 26, 2021',\n",
       " 'author': 'Lee Child',\n",
       " 'description': \"#1 NEW YORK TIMES BESTSELLER • Jack Reacher is back in a brand-new page-turning thriller from acclaimed #1 bestselling authors Lee Child and Andrew Child. Digging graves had not been part of my plans when I woke up that morning. Reacher goes where he wants, when he wants.\\xa0That morning he was heading west, walking under the merciless desert sun—until he comes upon a curious scene.\\xa0A Jeep has crashed into the only tree for miles around. A woman is slumped over the wheel. Dead?\\xa0No, nothing is what it seems. The woman is Michaela Fenton, an army veteran turned FBI agent trying to find her twin brother, who might\\xa0be mixed up with some dangerous people.\\xa0Most of them would rather die than betray their terrifying leader, who has burrowed his influence deep into the nearby border town, a backwater that has seen better days.\\xa0The mysterious Dendoncker rules from the shadows, out of sight and under the radar, keeping his dealings in the dark. He would know the fate of Fenton’s brother. Reacher is good at finding people who don’t want to be found, so he offers to help, despite feeling that Fenton\\xa0is keeping secrets of her own.\\xa0But a life\\xa0hangs in the balance. Maybe more than one.\\xa0But to bring Dendoncker down will be the riskiest job of Reacher's life.\\xa0Failure is not an option, because in this kind of game, the loser is always better off dead.\",\n",
       " 'price': '$17.03',\n",
       " 'rating': '4.1 out of 5 stars',\n",
       " 'review_count': '20,471 ratings',\n",
       " 'page_count': '336 pages',\n",
       " 'language': 'English',\n",
       " 'publisher': 'Delacorte Press',\n",
       " 'published_date': 'October 26, 2021'}"
      ]
     },
     "execution_count": 19,
     "metadata": {},
     "output_type": "execute_result"
    }
   ],
   "source": [
    "amazon\n"
   ]
  },
  {
   "cell_type": "code",
   "execution_count": null,
   "metadata": {},
   "outputs": [],
   "source": []
  }
 ],
 "metadata": {
  "interpreter": {
   "hash": "85c5338521198999b80d863a531722ca893d46f81fd69a08b81126edd62d109e"
  },
  "kernelspec": {
   "display_name": "Python 3.8.10 64-bit ('base': conda)",
   "language": "python",
   "name": "python3"
  },
  "language_info": {
   "codemirror_mode": {
    "name": "ipython",
    "version": 3
   },
   "file_extension": ".py",
   "mimetype": "text/x-python",
   "name": "python",
   "nbconvert_exporter": "python",
   "pygments_lexer": "ipython3",
   "version": "3.8.10"
  },
  "orig_nbformat": 4
 },
 "nbformat": 4,
 "nbformat_minor": 2
}
